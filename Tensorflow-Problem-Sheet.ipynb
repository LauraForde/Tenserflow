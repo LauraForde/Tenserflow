{
 "cells": [
  {
   "cell_type": "markdown",
   "metadata": {},
   "source": [
    "# Tenserflow Problem Sheet\n",
    "This notebook will be used to complete different tasks using Tensorflow and the Iris data set."
   ]
  },
  {
   "cell_type": "markdown",
   "metadata": {},
   "source": [
    "## Exercise 1 - Use Tensorflow to create model"
   ]
  },
  {
   "cell_type": "code",
   "execution_count": 6,
   "metadata": {},
   "outputs": [],
   "source": [
    "import csv\n",
    "import numpy as np\n",
    "import keras as kr\n",
    "\n",
    "# Loading the Iris data set\n",
    "data = list(csv.reader(open('Iris.csv')))[1:]\n",
    "\n",
    "# Reading sepal length & width and petal lenght & width\n",
    "dataIn = np.array(data)[:,:4].astype(np.float)\n",
    "\n",
    "# Converting output string to ints\n",
    "out = np.array(data)[:,4]\n",
    "outVal, outInt = np.unique(outputs, return_inverse=True)\n",
    "# Encode as binary categorical variables\n",
    "outCatego = kr.utils.to_categorical(outInt)\n",
    "\n",
    "# Creating neural network\n",
    "mod = kr.models.Sequential()"
   ]
  },
  {
   "cell_type": "markdown",
   "metadata": {},
   "source": [
    "## Exercise 2 - Split data into training & testing"
   ]
  },
  {
   "cell_type": "code",
   "execution_count": 9,
   "metadata": {},
   "outputs": [],
   "source": [
    "# Splitting the data for inputs and outputs into training and testing\n",
    "index = np.random.permutation(len(dataIn))\n",
    "# Split array\n",
    "trainIndex, testIndex = np.array_split(index, 2)\n",
    "# Getting the training set\n",
    "trainInput, trainOutput = dataIn[trainIndex], outCatego[trainIndex]\n",
    "# Getting the test set\n",
    "testInput, testOutput = dataIn[testIndex], outCatego[testIndex]\n",
    "\n",
    "mod = kr.models.Sequential()"
   ]
  },
  {
   "cell_type": "markdown",
   "metadata": {},
   "source": [
    "## Exercise 3 - Train the model"
   ]
  },
  {
   "cell_type": "code",
   "execution_count": null,
   "metadata": {},
   "outputs": [
    {
     "name": "stdout",
     "output_type": "stream",
     "text": [
      "Epoch 1/100\n",
      "75/75 [==============================] - 4s 52ms/step - loss: 1.1688 - acc: 0.3733\n",
      "Epoch 2/100\n",
      "75/75 [==============================] - 0s 4ms/step - loss: 1.0520 - acc: 0.5600\n",
      "Epoch 3/100\n",
      "75/75 [==============================] - 0s 4ms/step - loss: 0.9727 - acc: 0.6667\n",
      "Epoch 4/100\n",
      "75/75 [==============================] - 0s 4ms/step - loss: 0.9146 - acc: 0.6933\n",
      "Epoch 5/100\n",
      "75/75 [==============================] - 0s 4ms/step - loss: 0.8637 - acc: 0.6933\n",
      "Epoch 6/100\n",
      "75/75 [==============================] - 0s 3ms/step - loss: 0.8168 - acc: 0.6800\n",
      "Epoch 7/100\n",
      "75/75 [==============================] - 0s 4ms/step - loss: 0.7740 - acc: 0.6933\n",
      "Epoch 8/100\n",
      "75/75 [==============================] - 0s 4ms/step - loss: 0.7383 - acc: 0.6933\n",
      "Epoch 9/100\n",
      "75/75 [==============================] - 0s 4ms/step - loss: 0.7017 - acc: 0.7333\n",
      "Epoch 10/100\n",
      "75/75 [==============================] - 0s 3ms/step - loss: 0.6744 - acc: 0.7867\n",
      "Epoch 11/100\n",
      "75/75 [==============================] - 0s 4ms/step - loss: 0.6476 - acc: 0.8133\n",
      "Epoch 12/100\n",
      "75/75 [==============================] - 0s 4ms/step - loss: 0.6235 - acc: 0.7067\n",
      "Epoch 13/100\n",
      "75/75 [==============================] - 0s 3ms/step - loss: 0.6009 - acc: 0.7733\n",
      "Epoch 14/100\n",
      "75/75 [==============================] - 0s 4ms/step - loss: 0.5825 - acc: 0.8533\n",
      "Epoch 15/100\n",
      "75/75 [==============================] - 0s 4ms/step - loss: 0.5670 - acc: 0.7600\n",
      "Epoch 16/100\n",
      "75/75 [==============================] - 0s 3ms/step - loss: 0.5539 - acc: 0.7600\n",
      "Epoch 17/100\n",
      "75/75 [==============================] - 0s 4ms/step - loss: 0.5365 - acc: 0.9733\n",
      "Epoch 18/100\n",
      "75/75 [==============================] - 0s 4ms/step - loss: 0.5249 - acc: 0.9733\n",
      "Epoch 19/100\n",
      "75/75 [==============================] - 0s 3ms/step - loss: 0.5150 - acc: 0.8933\n",
      "Epoch 20/100\n",
      "75/75 [==============================] - 0s 4ms/step - loss: 0.5037 - acc: 0.8533\n",
      "Epoch 21/100\n",
      "75/75 [==============================] - 0s 4ms/step - loss: 0.4935 - acc: 0.8933\n",
      "Epoch 22/100\n",
      "75/75 [==============================] - 0s 4ms/step - loss: 0.4844 - acc: 0.9600\n",
      "Epoch 23/100\n",
      "28/75 [==========>...................] - ETA: 0s - loss: 0.4361 - acc: 1.0000"
     ]
    }
   ],
   "source": [
    "# Adding layer with 16 nodes and 4 input nodes\n",
    "mod.add(kr.layers.Dense(16, input_shape=(4,)))\n",
    "# Adding activation function\n",
    "mod.add(kr.layers.Activation(\"sigmoid\"))\n",
    "\n",
    "# Adding a layer with 3 nodes\n",
    "mod.add(kr.layers.Dense(3))\n",
    "# Adding activation function\n",
    "mod.add(kr.layers.Activation(\"softmax\"))\n",
    "\n",
    "# Configure for training\n",
    "mod.compile(optimizer=\"adam\", loss=\"categorical_crossentropy\", metrics=[\"accuracy\"])\n",
    "mod.fit(trainInput, trainOutput, epochs=100, batch_size=1,verbose=1)"
   ]
  },
  {
   "cell_type": "markdown",
   "metadata": {},
   "source": [
    "## Exercise 4 - Test the model"
   ]
  }
 ],
 "metadata": {
  "kernelspec": {
   "display_name": "Python 3",
   "language": "python",
   "name": "python3"
  },
  "language_info": {
   "codemirror_mode": {
    "name": "ipython",
    "version": 3
   },
   "file_extension": ".py",
   "mimetype": "text/x-python",
   "name": "python",
   "nbconvert_exporter": "python",
   "pygments_lexer": "ipython3",
   "version": "3.6.3"
  }
 },
 "nbformat": 4,
 "nbformat_minor": 2
}
